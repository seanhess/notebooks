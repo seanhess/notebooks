{
 "cells": [
  {
   "cell_type": "code",
   "execution_count": 1,
   "id": "39c7f625-478b-42ce-986b-2a6f7c0b81f6",
   "metadata": {},
   "outputs": [],
   "source": [
    "from astropy.io import fits\n",
    "import matplotlib.pyplot as plt\n",
    "import numpy as np"
   ]
  },
  {
   "cell_type": "code",
   "execution_count": 13,
   "id": "8dd09b7a-9dd7-435a-b77d-73e6612250c6",
   "metadata": {},
   "outputs": [
    {
     "name": "stdout",
     "output_type": "stream",
     "text": [
      "Filename: hinode/20150609_112919.fits\n",
      "No.    Name      Ver    Type      Cards   Dimensions   Format\n",
      "  0  PRIMARY       1 PrimaryHDU      44   ()      \n",
      "  1  Field_Strength    1 ImageHDU         8   (511, 512)   float32   \n",
      "  2  Field_Inclination    1 ImageHDU         8   (511, 512)   float32   \n",
      "  3  Field_Azimuth    1 ImageHDU         8   (511, 512)   float32   \n",
      "  4  Doppler_Shift1    1 ImageHDU         8   (511, 512)   float32   \n",
      "  5  Doppler_Shift2    1 ImageHDU         8   (511, 512)   float32   \n",
      "  6  Doppler_Width    1 ImageHDU         8   (511, 512)   float32   \n",
      "  7  Line_Strength    1 ImageHDU         8   (511, 512)   float32   \n",
      "  8  Damping       1 ImageHDU         8   (511, 512)   float32   \n",
      "  9  Source_Function    1 ImageHDU         8   (511, 512)   float32   \n",
      " 10  Source_Function_Gradient    1 ImageHDU         8   (511, 512)   float32   \n",
      " 11  Macro_Turbulence    1 ImageHDU         8   (511, 512)   float32   \n",
      " 12  Stray_Light_Fill_Factor    1 ImageHDU         8   (511, 512)   float32   \n",
      " 13  Stray_Light_Shift    1 ImageHDU         8   (511, 512)   float32   \n",
      " 14  Field_Strength_Error    1 ImageHDU         8   (511, 512)   float32   \n",
      " 15  Field_Inclination_Error    1 ImageHDU         8   (511, 512)   float32   \n",
      " 16  Field_Azimuth_Error    1 ImageHDU         8   (511, 512)   float32   \n",
      " 17  Doppler_Shift1_Error    1 ImageHDU         8   (511, 512)   float32   \n",
      " 18  Doppler_Shift2_Error    1 ImageHDU         8   (511, 512)   float32   \n",
      " 19  Doppler_Width_Error    1 ImageHDU         8   (511, 512)   float32   \n",
      " 20  Line_Strength_Error    1 ImageHDU         8   (511, 512)   float32   \n",
      " 21  Damping_Error    1 ImageHDU         8   (511, 512)   float32   \n",
      " 22  Source_Function_Error    1 ImageHDU         8   (511, 512)   float32   \n",
      " 23  Source_Function_Gradient_Error    1 ImageHDU         8   (511, 512)   float32   \n",
      " 24  Macro_Turbulence_Error    1 ImageHDU         8   (511, 512)   float32   \n",
      " 25  Stray_Light_Fill_Factor_Error    1 ImageHDU         8   (511, 512)   float32   \n",
      " 26  Stray_Light_Shift_Error    1 ImageHDU         8   (511, 512)   float32   \n",
      " 27  ChiSq_I       1 ImageHDU         8   (511, 512)   float32   \n",
      " 28  ChiSq_Q       1 ImageHDU         8   (511, 512)   float32   \n",
      " 29  ChiSq_U       1 ImageHDU         8   (511, 512)   float32   \n",
      " 30  ChiSq_V       1 ImageHDU         8   (511, 512)   float32   \n",
      " 31  ChiSq_Total    1 ImageHDU         8   (511, 512)   float32   \n",
      " 32  Continuum_Intensity    1 ImageHDU         8   (511, 512)   float32   \n",
      " 33  Original_Continuum_Intensity    1 ImageHDU         8   (511, 512)   float32   \n",
      " 34  Polarization    1 ImageHDU         8   (511, 512)   float32   \n",
      " 35  StokesV_Magnitude    1 ImageHDU         8   (511, 512)   float32   \n",
      " 36  Fitting_Attribute    1 ImageHDU         8   (511, 512)   uint8   \n",
      " 37  Number_of_Iterations    1 ImageHDU         8   (511, 512)   int16   \n",
      " 38  X_Coordinate    1 ImageHDU         8   (511, 512)   float32   \n",
      " 39  Y_Coordinate    1 ImageHDU         8   (511, 512)   float32   \n",
      " 40  Times         1 TableHDU        12   511R x 1C   [A23]   \n",
      " 41  Mechanical_Slit_Position    1 BinTableHDU     11   1R x 1C   [511E]   \n",
      " 42  Scattered_Light_Profile    1 BinTableHDU     11   1R x 1C   [112E]   \n"
     ]
    }
   ],
   "source": [
    "# Assuming you have a FITS file named 'example.fits'\n",
    "fits_file = 'hinode/20150609_112919.fits'\n",
    "\n",
    "hdul = fits.open(fits_file)\n",
    "hdul.info()"
   ]
  },
  {
   "cell_type": "code",
   "execution_count": 10,
   "id": "10a27e69-e083-4079-8d53-650dc89327d1",
   "metadata": {},
   "outputs": [
    {
     "data": {
      "text/plain": [
       "SIMPLE  =                    T / Written by IDL:  Tue Nov 24 03:52:21 2020      \n",
       "BITPIX  =                    8 /                                                \n",
       "NAXIS   =                    0 /                                                \n",
       "NAXIS1  =                  511 /                                                \n",
       "NAXIS2  =                  512 /                                                \n",
       "EXTEND  =                    T / File contains extensions                       \n",
       "XCEN    =             -164.232 /                                                \n",
       "YCEN    =              55.7977 /                                                \n",
       "XSCALE  =             0.297140 /                                                \n",
       "YSCALE  =             0.319978 /                                                \n",
       "TSTART  = '2015-06-09T11:29:19.664' /                                           \n",
       "TEND    = '2015-06-09T12:01:39.173' /                                           \n",
       "MAPID   = '115563  '           /                                                \n",
       "LMIN1   =        6301.20741000 /                                                \n",
       "LMAX1   =        6301.85388003 /                                                \n",
       "LMIN2   =        6302.19867000 /                                                \n",
       "LMAX2   =        6302.84514003 /                                                \n",
       "INVCODE = 'Merlin  '           /                                                \n",
       "INVVERS = '1       '           /                                                \n",
       "L2RTIME = '2020-11-24T10:52:19.432' /                                           \n",
       "MERLIN-I= 'Self-GA '           /                                                \n",
       "MERMAXCO=          1.00000E+16 /                                                \n",
       "MERMAXDM=          1.00000E+26 /                                                \n",
       "MERMINDM=          1.00000E-14 /                                                \n",
       "MERMAXFA=                  120 /                                                \n",
       "MERMAXIT=                  220 /                                                \n",
       "MERMINPO=          1.00000E-06 /                                                \n",
       "MERSLM  = 'FILL_FACTOR'        /                                                \n",
       "MERSFLD = 'true    '           /                                                \n",
       "MERSPSI = 'true    '           /                                                \n",
       "MERSAZM = 'true    '           /                                                \n",
       "MERSETAO= 'true    '           /                                                \n",
       "MERDOPP = 'true    '           /                                                \n",
       "MERDMP  = 'true    '           /                                                \n",
       "MERSBZER= 'true    '           /                                                \n",
       "MERSB1MU= 'true    '           /                                                \n",
       "MERVMAC = 'false   '           /                                                \n",
       "MERSALPH= 'true    '           /                                                \n",
       "MERSDELT= 'true    '           /                                                \n",
       "MERSCEN1= 'true    '           /                                                \n",
       "MERSCEN2= 'true    '           /                                                \n",
       "P_ANGLE =       -12.2558829858 /                                                \n",
       "B_ANGLE =       0.296653857517 /                                                \n",
       "SOLAR_RA=        944.696649332 /                                                "
      ]
     },
     "execution_count": 10,
     "metadata": {},
     "output_type": "execute_result"
    }
   ],
   "source": [
    "hdul[0].header"
   ]
  },
  {
   "cell_type": "code",
   "execution_count": 11,
   "id": "bd95ccc7-1071-45ba-9a3e-4f6fc4a3a034",
   "metadata": {},
   "outputs": [
    {
     "data": {
      "text/plain": [
       "XTENSION= 'IMAGE   '           / IMAGE extension                                \n",
       "BITPIX  =                  -32 /  IEEE single precision floating point          \n",
       "NAXIS   =                    2 / Number of data axes                            \n",
       "NAXIS1  =                  511 / Number of positions along axis 1               \n",
       "NAXIS2  =                  512 / Number of positions along axis 2               \n",
       "PCOUNT  =                    0 / No Group Parameters                            \n",
       "GCOUNT  =                    1 / One Data Group                                 \n",
       "EXTNAME = 'Field_Strength'     / Merlin : Field Strength                        "
      ]
     },
     "execution_count": 11,
     "metadata": {},
     "output_type": "execute_result"
    }
   ],
   "source": [
    "hdul[1].header"
   ]
  },
  {
   "cell_type": "code",
   "execution_count": 12,
   "id": "02c2fdf0-0959-495a-be0f-f5f02f8b0be1",
   "metadata": {},
   "outputs": [
    {
     "data": {
      "text/plain": [
       "XTENSION= 'IMAGE   '           / IMAGE extension                                \n",
       "BITPIX  =                  -32 /  IEEE single precision floating point          \n",
       "NAXIS   =                    2 / Number of data axes                            \n",
       "NAXIS1  =                  511 / Number of positions along axis 1               \n",
       "NAXIS2  =                  512 / Number of positions along axis 2               \n",
       "PCOUNT  =                    0 / No Group Parameters                            \n",
       "GCOUNT  =                    1 / One Data Group                                 \n",
       "EXTNAME = 'Field_Inclination'  / Merlin : Field Inclination                     "
      ]
     },
     "execution_count": 12,
     "metadata": {},
     "output_type": "execute_result"
    }
   ],
   "source": [
    "hdul[2].header"
   ]
  },
  {
   "cell_type": "code",
   "execution_count": 14,
   "id": "687a3425-6752-4ddb-a5ad-2f89de4b57b2",
   "metadata": {},
   "outputs": [],
   "source": [
    "hdul[0].data"
   ]
  },
  {
   "cell_type": "code",
   "execution_count": null,
   "id": "4bf52f43-b7d5-4ea2-bdd1-ab90fefa5799",
   "metadata": {},
   "outputs": [],
   "source": []
  }
 ],
 "metadata": {
  "kernelspec": {
   "display_name": "Python 3 (ipykernel)",
   "language": "python",
   "name": "python3"
  },
  "language_info": {
   "codemirror_mode": {
    "name": "ipython",
    "version": 3
   },
   "file_extension": ".py",
   "mimetype": "text/x-python",
   "name": "python",
   "nbconvert_exporter": "python",
   "pygments_lexer": "ipython3",
   "version": "3.11.4"
  }
 },
 "nbformat": 4,
 "nbformat_minor": 5
}
