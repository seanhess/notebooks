{
 "cells": [
  {
   "cell_type": "code",
   "execution_count": 3,
   "id": "8dbab95b-d07e-4351-8cb9-e6c3919a93fd",
   "metadata": {},
   "outputs": [],
   "source": [
    "import asdf\n",
    "import numpy as np\n",
    "\n",
    "# Create some data\n",
    "sequence = np.arange(100)\n",
    "squares = sequence**2\n",
    "random = np.random.random(100)\n",
    "\n",
    "# Store the data in an arbitrarily nested dictionary\n",
    "tree = {\n",
    "    \"foo\": 42,\n",
    "    \"name\": \"Monty\",\n",
    "    \"sequence\": sequence,\n",
    "    \"powers\": {\"squares\": squares},\n",
    "    \"random\": random,\n",
    "}\n",
    "\n",
    "# Create the ASDF file object from our data tree\n",
    "af = asdf.AsdfFile(tree)\n",
    "\n",
    "# Write the data to a new file\n",
    "af.write_to(\"example.asdf\")"
   ]
  },
  {
   "cell_type": "code",
   "execution_count": null,
   "id": "2baeb2f7-49a4-4c31-9d76-e3bcf8401e68",
   "metadata": {},
   "outputs": [],
   "source": []
  }
 ],
 "metadata": {
  "kernelspec": {
   "display_name": "Python 3 (ipykernel)",
   "language": "python",
   "name": "python3"
  },
  "language_info": {
   "codemirror_mode": {
    "name": "ipython",
    "version": 3
   },
   "file_extension": ".py",
   "mimetype": "text/x-python",
   "name": "python",
   "nbconvert_exporter": "python",
   "pygments_lexer": "ipython3",
   "version": "3.11.4"
  }
 },
 "nbformat": 4,
 "nbformat_minor": 5
}
