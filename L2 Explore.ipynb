{
 "cells": [
  {
   "cell_type": "code",
   "execution_count": 1,
   "id": "39c7f625-478b-42ce-986b-2a6f7c0b81f6",
   "metadata": {},
   "outputs": [],
   "source": [
    "from astropy.io import fits\n",
    "import matplotlib.pyplot as plt\n",
    "import numpy as np"
   ]
  },
  {
   "cell_type": "code",
   "execution_count": 4,
   "id": "2b39c428-7482-47e7-a6c9-959acf38ea38",
   "metadata": {},
   "outputs": [
    {
     "data": {
      "text/plain": [
       "(11, 81, 486, 237)"
      ]
     },
     "execution_count": 4,
     "metadata": {},
     "output_type": "execute_result"
    }
   ],
   "source": [
    "# I don't understand why it's shaped like this. One of them should be slit position and another be the other spatial dimension\n",
    "# 11 = physical quantities\n",
    "# 81 = log(tau)\n",
    "# 486 = ??? \n",
    "# 237 = ???\n",
    "# The width of the slit covers 11-12 pixels in resolution in spatial dimension. Decided to bin by 11/12px\n",
    "# Some pixels fall away, because the pixel size of the two arms are not the same\n",
    "# There are some edge effects, so 486, won't quite be the same. Be close... 1-2 pixels on the sides. \n",
    "# WCS - be careful which arm. One will be the base, the other we will match to the base. Carry over the world coordinates from the one we use as the base. The other one we adapt to that. \n",
    "#  - same with the time. There will be a slight shift. If in the scan direction, might be due to the refraction of the light in the atmosphere. \n",
    "#  - they might be a few seconds apart. But we will have to live with that. \n",
    "#  - Always the same arm (630?). Use the information in the 630 arm. The L1 file in the same position. \n",
    "hdul[0].data.shape"
   ]
  },
  {
   "cell_type": "code",
   "execution_count": 6,
   "id": "7d22ad11-f2e1-46a6-b8fb-a718fde1ea01",
   "metadata": {},
   "outputs": [
    {
     "data": {
      "text/plain": [
       "SIMPLE  =                    T / conforms to FITS standard                      \n",
       "BITPIX  =                  -32 / array data type                                \n",
       "NAXIS   =                    4 / number of array dimensions                     \n",
       "NAXIS1  =                  237                                                  \n",
       "NAXIS2  =                  486                                                  \n",
       "NAXIS3  =                   81                                                  \n",
       "NAXIS4  =                   11                                                  \n",
       "EXTEND  =                    T                                                  "
      ]
     },
     "execution_count": 6,
     "metadata": {},
     "output_type": "execute_result"
    }
   ],
   "source": [
    "hdul[0].header"
   ]
  },
  {
   "cell_type": "code",
   "execution_count": 2,
   "id": "8dd09b7a-9dd7-435a-b77d-73e6612250c6",
   "metadata": {},
   "outputs": [
    {
     "name": "stdout",
     "output_type": "stream",
     "text": [
      "Filename: inversion_output/scan1807/inv_res_mod.fits\n",
      "No.    Name      Ver    Type      Cards   Dimensions   Format\n",
      "  0  PRIMARY       1 PrimaryHDU       8   (237, 486, 81, 11)   float32   \n",
      "  1                1 ImageHDU         6   (81,)   float32   \n"
     ]
    }
   ],
   "source": [
    "# Assuming you have a FITS file named 'example.fits'\n",
    "fits_file = 'inversion_output/scan1807/inv_res_mod.fits'\n",
    "\n",
    "hdul = fits.open(fits_file)\n",
    "hdul.info()"
   ]
  },
  {
   "cell_type": "code",
   "execution_count": 18,
   "id": "9917d8a8-5fe3-41fd-9576-475b010da9b9",
   "metadata": {},
   "outputs": [
    {
     "data": {
      "text/plain": [
       "(81, 486, 237)"
      ]
     },
     "execution_count": 18,
     "metadata": {},
     "output_type": "execute_result"
    }
   ],
   "source": [
    "hdul[0].data[0,:,:,:].shape"
   ]
  },
  {
   "cell_type": "code",
   "execution_count": 3,
   "id": "d076c934-d01d-4672-82d5-c619d31f5965",
   "metadata": {},
   "outputs": [
    {
     "data": {
      "text/plain": [
       "SIMPLE  =                    T / conforms to FITS standard                      \n",
       "BITPIX  =                  -32 / array data type                                \n",
       "NAXIS   =                    4 / number of array dimensions                     \n",
       "NAXIS1  =                  237                                                  \n",
       "NAXIS2  =                  486                                                  \n",
       "NAXIS3  =                   81                                                  \n",
       "NAXIS4  =                   11                                                  \n",
       "EXTEND  =                    T                                                  "
      ]
     },
     "execution_count": 3,
     "metadata": {},
     "output_type": "execute_result"
    }
   ],
   "source": [
    "hdul[0].header"
   ]
  },
  {
   "cell_type": "code",
   "execution_count": 68,
   "id": "9f91b179-6698-461b-b01a-cc67f9901b4a",
   "metadata": {},
   "outputs": [
    {
     "data": {
      "text/plain": [
       "<matplotlib.image.AxesImage at 0x12c446390>"
      ]
     },
     "execution_count": 68,
     "metadata": {},
     "output_type": "execute_result"
    },
    {
     "data": {
      "image/png": "[encoded data removed]",
      "text/plain": [
       "<Figure size 640x480 with 1 Axes>"
      ]
     },
     "metadata": {},
     "output_type": "display_data"
    }
   ],
   "source": [
    "depth_along_slit = hdul[0].data[0,:,0,:]\n",
    "plt.imshow(depth_along_slit)"
   ]
  },
  {
   "cell_type": "code",
   "execution_count": 69,
   "id": "a6659304-c8ec-4fdc-95fb-2b63cdaeaa0d",
   "metadata": {},
   "outputs": [
    {
     "data": {
      "image/png": "[encoded data removed]",
      "text/plain": [
       "<Figure size 1000x600 with 1 Axes>"
      ]
     },
     "metadata": {},
     "output_type": "display_data"
    }
   ],
   "source": [
    "# Plot each row\n",
    "plt.figure(figsize=(10, 6))\n",
    "for i in range(depth_along_slit.shape[0]):  # Iterate over the rows\n",
    "    plt.plot(depth_along_slit[i, :], label=f'Row {i}')\n",
    "\n",
    "plt.title('Optical Depths along slit')\n",
    "plt.xlabel('Slit Pixel')\n",
    "plt.ylabel('log(tau) at 500nm')\n",
    "plt.grid(True)\n",
    "plt.show()"
   ]
  },
  {
   "cell_type": "code",
   "execution_count": 70,
   "id": "9cddc7c7-1a06-4520-8f71-5b4d2ca16c12",
   "metadata": {},
   "outputs": [
    {
     "data": {
      "text/plain": [
       "array([ 1.2,  1.1,  1. ,  0.9,  0.8,  0.7,  0.6,  0.5,  0.4,  0.3,  0.2,\n",
       "        0.1,  0. , -0.1, -0.2, -0.3, -0.4, -0.5, -0.6, -0.7, -0.8, -0.9,\n",
       "       -1. , -1.1, -1.2, -1.3, -1.4, -1.5, -1.6, -1.7, -1.8, -1.9, -2. ,\n",
       "       -2.1, -2.2, -2.3, -2.4, -2.5, -2.6, -2.7, -2.8, -2.9, -3. , -3.1,\n",
       "       -3.2, -3.3, -3.4, -3.5, -3.6, -3.7, -3.8, -3.9, -4. , -4.1, -4.2,\n",
       "       -4.3, -4.4, -4.5, -4.6, -4.7, -4.8, -4.9, -5. , -5.1, -5.2, -5.3,\n",
       "       -5.4, -5.5, -5.6, -5.7, -5.8, -5.9, -6. , -6.1, -6.2, -6.3, -6.4,\n",
       "       -6.5, -6.6, -6.7, -6.8], dtype='>f4')"
      ]
     },
     "execution_count": 70,
     "metadata": {},
     "output_type": "execute_result"
    }
   ],
   "source": [
    "tau_slit0 = depth_along_slit[:,0]\n",
    "tau_slit0"
   ]
  },
  {
   "cell_type": "code",
   "execution_count": 71,
   "id": "28bcf2f6-db65-4bce-a98c-a4f123a6ba34",
   "metadata": {},
   "outputs": [
    {
     "data": {
      "text/plain": [
       "(array([182]),)"
      ]
     },
     "execution_count": 71,
     "metadata": {},
     "output_type": "execute_result"
    }
   ],
   "source": [
    "np.where(depth_along_slit[0,:]==0)"
   ]
  },
  {
   "cell_type": "code",
   "execution_count": 72,
   "id": "9da8797e-5b0d-49ba-bfc3-a60f91a20a27",
   "metadata": {},
   "outputs": [
    {
     "data": {
      "text/plain": [
       "array([0., 0., 0., 0., 0., 0., 0., 0., 0., 0., 0., 0., 0., 0., 0., 0., 0.,\n",
       "       0., 0., 0., 0., 0., 0., 0., 0., 0., 0., 0., 0., 0., 0., 0., 0., 0.,\n",
       "       0., 0., 0., 0., 0., 0., 0., 0., 0., 0., 0., 0., 0., 0., 0., 0., 0.,\n",
       "       0., 0., 0., 0., 0., 0., 0., 0., 0., 0., 0., 0., 0., 0., 0., 0., 0.,\n",
       "       0., 0., 0., 0., 0., 0., 0., 0., 0., 0., 0., 0., 0.], dtype='>f4')"
      ]
     },
     "execution_count": 72,
     "metadata": {},
     "output_type": "execute_result"
    }
   ],
   "source": [
    "depth_along_slit[:,182]"
   ]
  },
  {
   "cell_type": "code",
   "execution_count": 5,
   "id": "10a27e69-e083-4079-8d53-650dc89327d1",
   "metadata": {},
   "outputs": [
    {
     "data": {
      "text/plain": [
       "XTENSION= 'IMAGE   '           / Image extension                                \n",
       "BITPIX  =                  -32 / array data type                                \n",
       "NAXIS   =                    1 / number of array dimensions                     \n",
       "NAXIS1  =                   81                                                  \n",
       "PCOUNT  =                    0 / number of parameters                           \n",
       "GCOUNT  =                    1 / number of groups                               "
      ]
     },
     "execution_count": 5,
     "metadata": {},
     "output_type": "execute_result"
    }
   ],
   "source": [
    "hdul[1].header"
   ]
  },
  {
   "cell_type": "code",
   "execution_count": 6,
   "id": "43052c19-67a8-4ce5-892d-fafeead6c749",
   "metadata": {},
   "outputs": [
    {
     "data": {
      "text/plain": [
       "array([ 1.2,  1.1,  1. ,  0.9,  0.8,  0.7,  0.6,  0.5,  0.4,  0.3,  0.2,\n",
       "        0.1,  0. , -0.1, -0.2, -0.3, -0.4, -0.5, -0.6, -0.7, -0.8, -0.9,\n",
       "       -1. , -1.1, -1.2, -1.3, -1.4, -1.5, -1.6, -1.7, -1.8, -1.9, -2. ,\n",
       "       -2.1, -2.2, -2.3, -2.4, -2.5, -2.6, -2.7, -2.8, -2.9, -3. , -3.1,\n",
       "       -3.2, -3.3, -3.4, -3.5, -3.6, -3.7, -3.8, -3.9, -4. , -4.1, -4.2,\n",
       "       -4.3, -4.4, -4.5, -4.6, -4.7, -4.8, -4.9, -5. , -5.1, -5.2, -5.3,\n",
       "       -5.4, -5.5, -5.6, -5.7, -5.8, -5.9, -6. , -6.1, -6.2, -6.3, -6.4,\n",
       "       -6.5, -6.6, -6.7, -6.8], dtype='>f4')"
      ]
     },
     "execution_count": 6,
     "metadata": {},
     "output_type": "execute_result"
    }
   ],
   "source": [
    "hdul[1].data"
   ]
  },
  {
   "cell_type": "code",
   "execution_count": 11,
   "id": "62232071-bb08-4a61-bd78-d7f6f1cea00f",
   "metadata": {},
   "outputs": [
    {
     "data": {
      "text/plain": [
       "array([ 1.20000e+00,  8.83116e+03,  3.21609e+03,  1.52590e+03,\n",
       "        8.65290e+01,  7.08110e+05,  6.18240e+01, -9.29690e+00,\n",
       "       -9.70440e+01,  2.70090e+05,  4.57360e-07], dtype='>f4')"
      ]
     },
     "execution_count": 11,
     "metadata": {},
     "output_type": "execute_result"
    }
   ],
   "source": [
    "hdul[0].data[:,0,0,0]"
   ]
  },
  {
   "cell_type": "code",
   "execution_count": 5,
   "id": "2aed4376-95aa-4d44-b2b2-9cb9663c38a2",
   "metadata": {},
   "outputs": [
    {
     "data": {
      "text/plain": [
       "(11, 81, 486, 237)"
      ]
     },
     "execution_count": 5,
     "metadata": {},
     "output_type": "execute_result"
    }
   ],
   "source": []
  },
  {
   "cell_type": "code",
   "execution_count": 6,
   "id": "dc3037b8-79ae-4a08-9151-65ace2c678d5",
   "metadata": {},
   "outputs": [
    {
     "data": {
      "text/plain": [
       "(81, 486, 237)"
      ]
     },
     "execution_count": 6,
     "metadata": {},
     "output_type": "execute_result"
    }
   ],
   "source": [
    "hdul[0].data[0].shape"
   ]
  },
  {
   "cell_type": "code",
   "execution_count": null,
   "id": "df9d03fb-48d8-457e-9b0c-b3d4607cc0b1",
   "metadata": {},
   "outputs": [],
   "source": []
  }
 ],
 "metadata": {
  "kernelspec": {
   "display_name": "Python 3 (ipykernel)",
   "language": "python",
   "name": "python3"
  },
  "language_info": {
   "codemirror_mode": {
    "name": "ipython",
    "version": 3
   },
   "file_extension": ".py",
   "mimetype": "text/x-python",
   "name": "python",
   "nbconvert_exporter": "python",
   "pygments_lexer": "ipython3",
   "version": "3.11.4"
  }
 },
 "nbformat": 4,
 "nbformat_minor": 5
}
